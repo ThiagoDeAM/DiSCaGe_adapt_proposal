{
 "cells": [
  {
   "cell_type": "markdown",
   "id": "6bb9836c",
   "metadata": {},
   "source": [
    "# Método DiSCaGe - Implementação"
   ]
  },
  {
   "cell_type": "markdown",
   "id": "6f588867",
   "metadata": {},
   "source": [
    "## Library Import"
   ]
  },
  {
   "cell_type": "code",
   "execution_count": 7,
   "id": "d46145f4",
   "metadata": {},
   "outputs": [],
   "source": [
    "import pandas as pd\n",
    "import networkx as nx\n",
    "import matplotlib.pyplot as plt\n",
    "from collections import defaultdict\n",
    "from itertools import combinations"
   ]
  },
  {
   "cell_type": "markdown",
   "id": "968eb800",
   "metadata": {},
   "source": [
    "## Table 1. MAF file for the running example."
   ]
  },
  {
   "cell_type": "code",
   "execution_count": 9,
   "id": "7d7f61bd",
   "metadata": {},
   "outputs": [
    {
     "name": "stdout",
     "output_type": "stream",
     "text": [
      "  Hugo_Symbol  Chromosome  Start_Position  End_Position Strand  \\\n",
      "0          G1           7          100000        100000      +   \n",
      "1          G1           7          100000        100000      +   \n",
      "2          G1           7          100000        100001      +   \n",
      "3          G1           7          100000        100000      +   \n",
      "4          G1           7          100000        100000      +   \n",
      "\n",
      "   Variant_Classification Variant_Type Reference_Allele Tumor_Seq_Allele1  \\\n",
      "0       Missense_Mutation          SNP                A                 A   \n",
      "1       Nonsense_Mutation          SNP                G                 G   \n",
      "2         Frame_Shift_Ins          INS                -                 -   \n",
      "3         Frame_Shift_Del          DEL                C                 C   \n",
      "4  Translation_Start_Site          SNP                A                 A   \n",
      "\n",
      "  Tumor_Seq_Allele2 Tumor_Sample_Barcode  \n",
      "0                 T                   P3  \n",
      "1                 C                   P3  \n",
      "2                 T                   P3  \n",
      "3                 -                   P3  \n",
      "4                 T                   P3  \n"
     ]
    }
   ],
   "source": [
    "maf_path = './inputs/maf_file.maf'\n",
    "\n",
    "try:\n",
    "    maf_df = pd.read_csv(maf_path, sep='\\t', comment='#')\n",
    "    print(maf_df.head())\n",
    "except Exception as e:\n",
    "    print(f\"Erro ao ler o arquivo MAF: {e}\")"
   ]
  },
  {
   "cell_type": "markdown",
   "id": "8cdc5940",
   "metadata": {},
   "source": [
    "## Table 2. Mutation weights."
   ]
  },
  {
   "cell_type": "code",
   "execution_count": 10,
   "id": "de262726",
   "metadata": {},
   "outputs": [],
   "source": [
    "mutation_weights = {\n",
    "    'Nonsense_Mutation': 1.0,\n",
    "    'Missense_Mutation': 0.4,\n",
    "    'Splice_Site': 0.4,\n",
    "    'Frame_Shift_Del': 1.0,\n",
    "    'Frame_Shift_Ins': 1.0,\n",
    "    'In_Frame_Del': 0.4,\n",
    "    'In_Frame_Ins': 0.4,\n",
    "    '3\\'UTR': 0.2,\n",
    "    '5\\'UTR': 0.4,\n",
    "    'Nonstop_Mutation': 0.4,\n",
    "    'Translation_Start_Site': 0.2\n",
    "}"
   ]
  },
  {
   "cell_type": "markdown",
   "id": "d6284e4c",
   "metadata": {},
   "source": [
    "## Step 1- Weighted Mutation Matrix (WMM)"
   ]
  },
  {
   "cell_type": "code",
   "execution_count": 11,
   "id": "b4c880d6",
   "metadata": {},
   "outputs": [
    {
     "name": "stdout",
     "output_type": "stream",
     "text": [
      "Hugo_Symbol             G1  G10  G11   G2   G3   G4   G5   G6   G7   G8\n",
      "Tumor_Sample_Barcode                                                   \n",
      "P1                    0.00  0.6  0.0  0.0  0.0  0.0  0.0  0.5  0.0  0.0\n",
      "P2                    0.00  0.0  0.6  0.6  1.0  0.0  0.4  0.0  0.0  0.0\n",
      "P3                    0.72  0.4  0.0  0.0  0.6  0.6  0.0  0.4  0.6  0.0\n",
      "P4                    0.40  0.0  0.0  0.6  0.0  0.4  0.0  0.0  0.0  0.0\n",
      "P5                    0.00  0.0  0.0  0.4  0.4  0.4  0.0  0.0  1.0  0.8\n",
      "P6                    0.00  0.6  0.0  0.0  0.0  0.0  0.0  0.0  0.6  0.0\n"
     ]
    }
   ],
   "source": [
    "maf_df['Weight'] = maf_df['Variant_Classification'].map(mutation_weights)\n",
    "\n",
    "wmm = maf_df.groupby(['Tumor_Sample_Barcode', 'Hugo_Symbol'])['Weight'].mean().unstack(fill_value=0)\n",
    "\n",
    "print(wmm)"
   ]
  },
  {
   "cell_type": "markdown",
   "id": "4ebbc84f",
   "metadata": {},
   "source": [
    "## Step 2 - Weighted frequencies"
   ]
  },
  {
   "cell_type": "code",
   "execution_count": 12,
   "id": "4e05b808",
   "metadata": {},
   "outputs": [
    {
     "name": "stdout",
     "output_type": "stream",
     "text": [
      "  Gene        wf       nwf\n",
      "0   G1  0.186667  0.509091\n",
      "1  G10  0.266667  0.727273\n",
      "2  G11  0.100000  0.272727\n",
      "3   G2  0.266667  0.727273\n",
      "4   G3  0.333333  0.909091\n",
      "5   G4  0.233333  0.636364\n",
      "6   G5  0.066667  0.181818\n",
      "7   G6  0.150000  0.409091\n",
      "8   G7  0.366667  1.000000\n",
      "9   G8  0.133333  0.363636\n"
     ]
    }
   ],
   "source": [
    "def calculate_normalized_gene_scores(maf_df, wmm):\n",
    "\n",
    "    numero_pacientes = maf_df['Tumor_Sample_Barcode'].nunique()\n",
    "    pontuacao_bruta_genes = wmm.sum(axis=0) / numero_pacientes\n",
    "    pontuacao_normalizada_genes = pontuacao_bruta_genes / pontuacao_bruta_genes.max()\n",
    "\n",
    "    pontuacoes_df = pd.DataFrame({\n",
    "        'wf': pontuacao_bruta_genes,\n",
    "        'nwf': pontuacao_normalizada_genes\n",
    "    }).reset_index()\n",
    "\n",
    "    if 'index' in pontuacoes_df.columns:\n",
    "        pontuacoes_df.rename(columns={'index': 'Gene'}, inplace=True)\n",
    "    elif 'Hugo_Symbol' in pontuacoes_df.columns:\n",
    "        pontuacoes_df.rename(columns={'Hugo_Symbol': 'Gene'}, inplace=True)\n",
    "    else:\n",
    "        print(\"Coluna não encontrada.\")\n",
    "\n",
    "    pontuacoes_df.sort_values(by='Gene', inplace=True)\n",
    "    pontuacoes_df.reset_index(drop=True, inplace=True)\n",
    "\n",
    "    return pontuacoes_df, pontuacoes_df['nwf']\n",
    "\n",
    "pontuacoes_df, nwf = calculate_normalized_gene_scores(maf_df, wmm)\n",
    "print(pontuacoes_df)"
   ]
  },
  {
   "cell_type": "markdown",
   "id": "5a1f7543",
   "metadata": {},
   "source": [
    "## Step 3 - Consensus Network UGN"
   ]
  },
  {
   "cell_type": "code",
   "execution_count": 14,
   "id": "2c3bcbc8",
   "metadata": {},
   "outputs": [
    {
     "data": {
      "image/png": "[encoded data removed]",
      "text/plain": [
       "<Figure size 640x480 with 1 Axes>"
      ]
     },
     "metadata": {},
     "output_type": "display_data"
    },
    {
     "name": "stdout",
     "output_type": "stream",
     "text": [
      "('G1', 'G2', {'weight': 0.5})\n",
      "('G1', 'G3', {'weight': 0.5})\n",
      "('G1', 'G5', {'weight': 1.0})\n",
      "('G1', 'G6', {'weight': 0.75})\n",
      "('G1', 'G7', {'weight': 0.5})\n",
      "('G2', 'G4', {'weight': 0.75})\n",
      "('G2', 'G6', {'weight': 0.5})\n",
      "('G3', 'G4', {'weight': 0.5})\n",
      "('G3', 'G5', {'weight': 0.5})\n",
      "('G5', 'G4', {'weight': 0.75})\n",
      "('G4', 'G8', {'weight': 0.5})\n",
      "('G8', 'G9', {'weight': 0.25})\n"
     ]
    }
   ],
   "source": [
    "def calculate_frequency_pairs(file_paths):\n",
    "    \n",
    "    exact_pair_frequency = defaultdict(int)\n",
    "\n",
    "    for file_path in file_paths:\n",
    "        with open(file_path, 'r') as file:\n",
    "            for line in file:\n",
    "                genes = line.strip().split()\n",
    "\n",
    "                for i in range(len(genes) - 1):\n",
    "                    pair = f\"{genes[i]} {genes[i+1]}\"\n",
    "                    exact_pair_frequency[pair] += 1\n",
    "\n",
    "    unordered_pair_frequency = defaultdict(int)\n",
    "    for pair, freq in exact_pair_frequency.items():\n",
    "        genes = pair.split()\n",
    "        unordered_pair = tuple(sorted(genes))\n",
    "        unordered_pair_frequency[unordered_pair] += freq\n",
    "\n",
    "    total_files = len(file_paths)\n",
    "    for pair in unordered_pair_frequency:\n",
    "        unordered_pair_frequency[pair] = unordered_pair_frequency[pair] / total_files\n",
    "\n",
    "    return unordered_pair_frequency\n",
    "\n",
    "def create_graph(unordered_pair_frequency):\n",
    "    \n",
    "    G = nx.Graph()\n",
    "\n",
    "    for pair, freq in unordered_pair_frequency.items():\n",
    "        gene1, gene2 = pair\n",
    "        G.add_edge(gene1, gene2, weight=freq)\n",
    "\n",
    "    return G\n",
    "\n",
    "def display_graph(G):\n",
    "    \n",
    "    pos = nx.spring_layout(G)\n",
    "    nx.draw(G, pos, with_labels=True, node_color='skyblue', node_size=700, edge_color='gray', width=2)\n",
    "    edge_weights = nx.get_edge_attributes(G, 'weight')\n",
    "    nx.draw_networkx_edge_labels(G, pos, edge_labels=edge_weights)\n",
    "    plt.show()\n",
    "\n",
    "file_paths = ['./inputs/GeneNetwork_1.txt',\n",
    "                 './inputs/GeneNetwork_2.txt',\n",
    "                 './inputs/GeneNetwork_3.txt',\n",
    "                 './inputs/GeneNetwork_4.txt'\n",
    "             ]\n",
    "\n",
    "unordered_pair_frequency = calculate_frequency_pairs(file_paths)\n",
    "ugn = create_graph(unordered_pair_frequency)\n",
    "display_graph(ugn)\n",
    "\n",
    "edges_with_weights = ugn.edges(data=True)\n",
    "for edge in edges_with_weights:\n",
    "    print(edge)"
   ]
  },
  {
   "cell_type": "markdown",
   "id": "246191ad",
   "metadata": {},
   "source": [
    "## Step 4 - Gene Strength Spreading Network GSSN"
   ]
  },
  {
   "cell_type": "code",
   "execution_count": 15,
   "id": "2e625015",
   "metadata": {
    "scrolled": true
   },
   "outputs": [
    {
     "name": "stdout",
     "output_type": "stream",
     "text": [
      "Max weight: 4.9375\n",
      "('G1', 'G2', {'weight': 0.34810126582278483})\n",
      "('G1', 'G3', {'weight': 0.26582278481012656})\n",
      "('G1', 'G5', {'weight': 0.6962025316455697})\n",
      "('G1', 'G6', {'weight': 0.1518987341772152})\n",
      "('G1', 'G7', {'weight': 0.10126582278481013})\n",
      "('G2', 'G1', {'weight': 0.45569620253164556})\n",
      "('G2', 'G4', {'weight': 0.6170886075949367})\n",
      "('G2', 'G6', {'weight': 0.10126582278481013})\n",
      "('G3', 'G1', {'weight': 0.3670886075949367})\n",
      "('G3', 'G4', {'weight': 0.2911392405063291})\n",
      "('G3', 'G5', {'weight': 0.10126582278481013})\n",
      "('G5', 'G1', {'weight': 1.0})\n",
      "('G5', 'G3', {'weight': 0.10126582278481013})\n",
      "('G5', 'G4', {'weight': 0.5791139240506329})\n",
      "('G6', 'G1', {'weight': 0.5316455696202531})\n",
      "('G6', 'G2', {'weight': 0.1962025316455696})\n",
      "('G7', 'G1', {'weight': 0.24050632911392406})\n",
      "('G4', 'G2', {'weight': 0.5316455696202531})\n",
      "('G4', 'G3', {'weight': 0.22784810126582278})\n",
      "('G4', 'G5', {'weight': 0.5316455696202531})\n",
      "('G4', 'G8', {'weight': 0.16455696202531644})\n",
      "('G8', 'G4', {'weight': 0.25316455696202533})\n",
      "('G8', 'G9', {'weight': 0.05063291139240506})\n",
      "('G9', 'G8', {'weight': 0.056962025316455694})\n"
     ]
    }
   ],
   "source": [
    "def build_gssn(gene_network):\n",
    "    \n",
    "    gssn = nx.DiGraph()\n",
    "    gene_network.remove_edges_from(nx.selfloop_edges(gene_network))\n",
    "    \n",
    "    max_weight = 0\n",
    "    for g_i, g_j in gene_network.edges:\n",
    "        weight_ij = gene_network[g_i][g_j][\"weight\"]\n",
    "        r_i = sum(gene_network[g_i][neighbor]['weight'] for neighbor in gene_network[g_i])\n",
    "        r_j = sum(gene_network[g_j][neighbor]['weight'] for neighbor in gene_network[g_j])\n",
    "        r_i_out = sum(gene_network[g_i][neighbor]['weight'] for neighbor in set(gene_network[g_i]) - set(gene_network[g_j]) - {g_j})\n",
    "        r_j_out = sum(gene_network[g_j][neighbor]['weight'] for neighbor in set(gene_network[g_j]) - set(gene_network[g_i]) - {g_i})\n",
    "\n",
    "        s_ij = (1 + (r_i * r_j_out)) * weight_ij\n",
    "        s_ji = (1 + (r_j * r_i_out)) * weight_ij\n",
    "\n",
    "        gssn.add_edge(g_i, g_j, weight=s_ij)\n",
    "        gssn.add_edge(g_j, g_i, weight=s_ji)\n",
    "\n",
    "        max_weight = max(max_weight, s_ij, s_ji)\n",
    "\n",
    "    for _, _, d in gssn.edges(data=True):\n",
    "        d['weight'] /= max_weight\n",
    "\n",
    "    return gssn, max_weight\n",
    "\n",
    "gssn, max_weight = build_gssn(ugn)\n",
    "print(\"Max weight:\", max_weight)\n",
    "for edge in gssn.edges(data=True):\n",
    "    print(edge)"
   ]
  },
  {
   "cell_type": "markdown",
   "id": "81b75789",
   "metadata": {},
   "source": [
    "## Step 5 - Neighbors mutation influence"
   ]
  },
  {
   "cell_type": "code",
   "execution_count": 16,
   "id": "16151909",
   "metadata": {
    "scrolled": true
   },
   "outputs": [
    {
     "name": "stdout",
     "output_type": "stream",
     "text": [
      "  Gene         r        nr\n",
      "0   G1  1.073648  1.000000\n",
      "1   G2  0.745224  0.694105\n",
      "2   G3  0.490679  0.457020\n",
      "3   G5  0.957883  0.892176\n",
      "4   G6  0.413349  0.384995\n",
      "5   G7  0.122440  0.114041\n",
      "6   G4  0.999425  0.930868\n",
      "7   G8  0.234753  0.218650\n",
      "8   G9  0.023303  0.021704\n"
     ]
    }
   ],
   "source": [
    "def calculate_neighbors_mutation_influence(gssn, nwf, max_weight):\n",
    "    data = []\n",
    "    r_values = {}\n",
    "\n",
    "    if not all(node in nwf.index for node in gssn.nodes):\n",
    "        print(\"Os identificadores dos nós não estão alinhados com os índices em nwf.\")\n",
    "        return pd.DataFrame(data)\n",
    "\n",
    "    for gene in gssn.nodes():\n",
    "        r = sum(nwf[neighbor] * gssn[gene][neighbor]['weight'] for neighbor in gssn.successors(gene))\n",
    "        r_values[gene] = r\n",
    "\n",
    "    max_r = max(r_values.values(), default=1)\n",
    "\n",
    "    for gene, r in r_values.items():\n",
    "        nr = r / max_r if max_r > 0 else 0\n",
    "        data.append({'Gene': gene, 'r': r, 'nr': nr})\n",
    "\n",
    "    influence_df = pd.DataFrame(data)\n",
    "    return influence_df\n",
    "\n",
    "nwf.index = ['G' + str(i) for i in range(1, len(nwf) + 1)]\n",
    "influence_df = calculate_neighbors_mutation_influence(gssn, nwf, max_weight)\n",
    "\n",
    "print(influence_df)"
   ]
  },
  {
   "cell_type": "markdown",
   "id": "8fd86373",
   "metadata": {},
   "source": [
    "## Step 6 - Final mutation score"
   ]
  },
  {
   "cell_type": "code",
   "execution_count": 17,
   "id": "8d1fbdde",
   "metadata": {},
   "outputs": [
    {
     "name": "stdout",
     "output_type": "stream",
     "text": [
      "  Gene       nwf         r        ms\n",
      "3   G5  0.909091  0.892176  1.801267\n",
      "6   G4  0.727273  0.930868  1.658141\n",
      "0   G1  0.509091  1.000000  1.509091\n",
      "1   G2  0.727273  0.694105  1.421378\n",
      "8   G9  1.000000  0.021704  1.021704\n",
      "4   G6  0.636364  0.384995  1.021358\n",
      "2   G3  0.272727  0.457020  0.729748\n",
      "7   G8  0.409091  0.218650  0.627740\n",
      "5   G7  0.181818  0.114041  0.295859\n"
     ]
    }
   ],
   "source": [
    "def generate_final_mutation_score_table(nwf, influence_df):\n",
    "\n",
    "    data = []\n",
    "    for index, row in influence_df.iterrows():\n",
    "        gene = row['Gene']\n",
    "        mutation_score = nwf.get(gene, 0)\n",
    "        neighbors_influence_score = row['nr']\n",
    "        final_mutation_score = mutation_score + neighbors_influence_score\n",
    "        data.append({\n",
    "            'Gene': gene, \n",
    "            'nwf': mutation_score, \n",
    "            'r': neighbors_influence_score, \n",
    "            'ms': final_mutation_score\n",
    "        })\n",
    "    final_scores_df = pd.DataFrame(data)\n",
    "    \n",
    "    final_scores_df = final_scores_df.sort_values(by='ms', ascending=False)\n",
    "\n",
    "    return final_scores_df\n",
    "\n",
    "final_mutation_scores_table = generate_final_mutation_score_table(nwf, influence_df)\n",
    "print(final_mutation_scores_table)"
   ]
  }
 ],
 "metadata": {
  "kernelspec": {
   "display_name": "Python 3 (ipykernel)",
   "language": "python",
   "name": "python3"
  },
  "language_info": {
   "codemirror_mode": {
    "name": "ipython",
    "version": 3
   },
   "file_extension": ".py",
   "mimetype": "text/x-python",
   "name": "python",
   "nbconvert_exporter": "python",
   "pygments_lexer": "ipython3",
   "version": "3.11.5"
  }
 },
 "nbformat": 4,
 "nbformat_minor": 5
}
